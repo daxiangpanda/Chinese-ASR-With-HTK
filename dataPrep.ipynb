{
 "cells": [
  {
   "cell_type": "code",
   "execution_count": 1,
   "metadata": {},
   "outputs": [],
   "source": [
    "import os\n",
    "import json\n",
    "import re"
   ]
  },
  {
   "cell_type": "code",
   "execution_count": 2,
   "metadata": {
    "scrolled": false
   },
   "outputs": [],
   "source": [
    "InPath = '/home/godlovefe/CRHTK/dataprepare/InputData/'\n",
    "OutPath = '/home/godlovefe/CRHTK/dataprepare/OutputData/'\n",
    "InputPath_utf_to_unicode = '/home/godlovefe/CRHTK/dataprepare/OutputData/'\n",
    "OutputPath_utf_to_unicode = '/home/godlovefe/CRHTK/dataprepare/UnicodeOutputFile/'\n",
    "InputPath_unincode_to_utf = '/home/godlovefe/CRHTK/dataprepare/UnicodeOutputFile/'\n",
    "OutputPath_unincode_to_utf = '/home/godlovefe/CRHTK/dataprepare/UtfOutputFile/'\n",
    "finalPath = '/home/godlovefe/CRHTK/dataprepare/finalOutputFile/'"
   ]
  },
  {
   "cell_type": "code",
   "execution_count": 3,
   "metadata": {
    "scrolled": false
   },
   "outputs": [],
   "source": [
    "def utf_to_unicode(a,b):\n",
    "    datalist = os.listdir('/home/godlovefe/CRHTK/dataprepare/InputData')\n",
    "    print(datalist)\n",
    "    for fileName in datalist:\n",
    "        data = []\n",
    "        with open(InPath + fileName) as f:\n",
    "            for line in f.readlines():\n",
    "#                 data.append(re.sub('\\d+','',line))\n",
    "                data.append(line)\n",
    "#                 data.append(line.replace(r'\\d',''))\n",
    "        with open(OutPath + fileName,'w') as file_object:\n",
    "            for item in data:\n",
    "                file_object.write(json.dumps(item) +'\\n')"
   ]
  },
  {
   "cell_type": "code",
   "execution_count": 4,
   "metadata": {
    "scrolled": false
   },
   "outputs": [],
   "source": [
    "def unicode_to_text(a,b):\n",
    "    datalist = os.listdir('/home/godlovefe/CRHTK/dataprepare/OutputData')\n",
    "    print(datalist)\n",
    "    for fileName in datalist:\n",
    "        data = []\n",
    "        with open(InputPath_utf_to_unicode + fileName) as f:\n",
    "            for line in f.readlines():\n",
    "                data.append(line)\n",
    "        with open(OutputPath_utf_to_unicode + fileName,'w') as file:\n",
    "            for item in data:\n",
    "                file.write(repr(item).replace('u\\'','').replace('\\'','').replace('\"','') \\\n",
    "                           .replace(r'\\\\u','w').replace(r'\\u','w').replace('\\\\n','') + '\\n')"
   ]
  },
  {
   "cell_type": "code",
   "execution_count": 5,
   "metadata": {
    "scrolled": true
   },
   "outputs": [],
   "source": [
    "def unicode_to_utf_pre(a,b):\n",
    "    datalist = os.listdir('/home/godlovefe/CRHTK/dataprepare/UnicodeOutputFile')\n",
    "    print(datalist)\n",
    "    for fileName in datalist:\n",
    "        data = []\n",
    "        with open(InputPath_unincode_to_utf + fileName,'rb')as f:\n",
    "            for line in f.readlines():\n",
    "                data.append(repr(line).replace('w','\\\\u').replace(\"'\",'').replace('\\\\n',''))\n",
    "        with open(OutputPath_unincode_to_utf + fileName, 'w') as file_object:\n",
    "            for item in data:\n",
    "                file_object.write(item + '\\n')"
   ]
  },
  {
   "cell_type": "code",
   "execution_count": 6,
   "metadata": {},
   "outputs": [],
   "source": [
    "def unicode_to_utf(a,b):\n",
    "    datalist = os.listdir('/home/godlovefe/CRHTK/dataprepare/UtfOutputFile')\n",
    "    print(datalist)\n",
    "    for fileName in datalist:\n",
    "        data = []\n",
    "        with open(OutputPath_unincode_to_utf + fileName,'rb') as f:\n",
    "            for line in f.readlines():\n",
    "                data.append(line)\n",
    "        with open(finalPath + fileName, 'w') as file_object:\n",
    "            for item in data:\n",
    "                file_object.write(item.decode(\"unicode-escape\"))"
   ]
  },
  {
   "cell_type": "code",
   "execution_count": 7,
   "metadata": {
    "scrolled": true
   },
   "outputs": [
    {
     "name": "stdout",
     "output_type": "stream",
     "text": [
      "['lexicon.txt', 'lexicon1.txt']\n",
      "['lexicon.txt', 'lexicon1.txt']\n"
     ]
    }
   ],
   "source": [
    "utf_to_unicode(InPath,OutPath)\n",
    "unicode_to_text(InputPath_utf_to_unicode,OutputPath_utf_to_unicode)\n",
    "# unicode_to_utf_pre(InputPath_unincode_to_utf ,OutputPath_unincode_to_utf)\n",
    "# unicode_to_utf(OutputPath_unincode_to_utf,finalPath)"
   ]
  }
 ],
 "metadata": {
  "kernelspec": {
   "display_name": "Python 3",
   "language": "python",
   "name": "python3"
  },
  "language_info": {
   "codemirror_mode": {
    "name": "ipython",
    "version": 3
   },
   "file_extension": ".py",
   "mimetype": "text/x-python",
   "name": "python",
   "nbconvert_exporter": "python",
   "pygments_lexer": "ipython3",
   "version": "3.5.2"
  }
 },
 "nbformat": 4,
 "nbformat_minor": 2
}
