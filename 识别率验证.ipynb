{
 "cells": [
  {
   "cell_type": "code",
   "execution_count": 1,
   "metadata": {},
   "outputs": [],
   "source": [
    "import os\n",
    "import re\n",
    "import pandas as pd"
   ]
  },
  {
   "cell_type": "code",
   "execution_count": 2,
   "metadata": {
    "scrolled": true
   },
   "outputs": [
    {
     "name": "stdout",
     "output_type": "stream",
     "text": [
      "['11整段.txt', '11分段.txt']\n"
     ]
    }
   ],
   "source": [
    "datalist = os.listdir('/home/godlovefe/token/InputData')\n",
    "print(datalist)\n",
    "InPath = '/home/godlovefe/token/InputData/'\n",
    "OutPath = '/home/godlovefe/token/OutputData/'"
   ]
  },
  {
   "cell_type": "code",
   "execution_count": 3,
   "metadata": {},
   "outputs": [],
   "source": [
    "# for FileName in datalist:\n",
    "#     data = []\n",
    "#     with open(InPath + FileName)as f:\n",
    "#         for line in f.read():\n",
    "#             line = re.sub(r\"\\W\", \"\", line)\n",
    "#             line = re.sub(r\"[0-9a-zA-Z]\", \"\", line)\n",
    "#             data.append(line.strip('\\n'))\n",
    "#     with open(OutPath + FileName,'w') as f1:\n",
    "#         for dt in data:\n",
    "#             f1.write(\"\".join(dt.strip('\\n'))+'\\n')\n",
    "#     fw = open(OutPath1 + FileName,'w').write('#!MLF!#\\n' + '\"*/' + FileName +'.rec'+ '\"'+'\\n' \\\n",
    "#                                              + open(OutPath + FileName).read()+'.')"
   ]
  },
  {
   "cell_type": "code",
   "execution_count": 4,
   "metadata": {
    "scrolled": false
   },
   "outputs": [],
   "source": [
    "# for FileName in datalist:\n",
    "#     with open(InPath + FileName)as f:\n",
    "#         i=0\n",
    "#         for line in f.readlines():\n",
    "#             i += 1\n",
    "#             line = re.sub(r\"\\W\", \"\", line)\n",
    "#             line = re.sub(r\"[0-9a-zA-Z]\", \"\", line)\n",
    "#             fw = open(OutPath + 'result.mlf','a').write('\"*/' +str(i)+'_result' +'.rec'+ '\"\\n')\n",
    "#             for word in range(0,len(line)):               \n",
    "#                 fw = open(OutPath + 'result.mlf','a').write( line[word] +'\\n')           \n",
    "#             fw = open(OutPath + 'result.mlf','a').write( '.'+'\\n')\n",
    "#         fw1 = open(OutPath + FileName+'.mlf','w').write('#!MLF!#\\n'+ open(OutPath+'result.mlf').read())  \n",
    "#         os.remove(OutPath + 'result.mlf')"
   ]
  },
  {
   "cell_type": "code",
   "execution_count": 5,
   "metadata": {
    "scrolled": false
   },
   "outputs": [],
   "source": [
    "# for i in range(1,13):\n",
    "#     cmd1 = 'HResults -f -I /home/godlovefe/token/sourceData/原文'+str(i)+'.txt.mlf \\\n",
    "#          /home/godlovefe/CRHTK/phones/monophones1 /home/godlovefe/token/resultData/百度'+str(i)+'.txt.mlf \\\n",
    "#          >/home/godlovefe/token/result_百度/result百度'+str(i)+'.txt'\n",
    "#     os.system(cmd1)"
   ]
  },
  {
   "cell_type": "code",
   "execution_count": null,
   "metadata": {},
   "outputs": [],
   "source": []
  },
  {
   "cell_type": "code",
   "execution_count": 6,
   "metadata": {},
   "outputs": [],
   "source": [
    "# cmd1 = 'HResults -f -I /home/godlovefe/token/sourceData/原文12.txt.mlf  \\\n",
    "#        /home/godlovefe/CRHTK/phones/monophones1 /home/godlovefe/token/resultData/对话12整段.txt.mlf \\\n",
    "#        >/home/godlovefe/token/result整段12.txt'\n",
    "# os.system(cmd1)\n",
    "\n",
    "# cmd2 = 'HResults -f -I /home/godlovefe/token/sourceData/原文12.txt.mlf  \\\n",
    "#        /home/godlovefe/CRHTK/phones/monophones1 /home/godlovefe/token/resultData/对话12分段.txt.mlf \\\n",
    "#        >/home/godlovefe/token/result分段12.txt'\n",
    "# os.system(cmd2)\n",
    "# cmd3 = 'HResults -f -I /home/godlovefe/token/sourceData/原文10.txt.mlf  \\\n",
    "#        /home/godlovefe/CRHTK/phones/monophones1 /home/godlovefe/token/resultData/对话10整段.txt.mlf \\\n",
    "#        >/home/godlovefe/token/result整段10.txt'\n",
    "# os.system(cmd3)\n",
    "\n",
    "# cmd4 = 'HResults -f -I /home/godlovefe/token/sourceData/原文10.txt.mlf  \\\n",
    "#        /home/godlovefe/CRHTK/phones/monophones1 /home/godlovefe/token/resultData/对话10分段.txt.mlf \\\n",
    "#        >/home/godlovefe/token/result分段10.txt'\n",
    "# os.system(cmd4)\n",
    "\n",
    "# cmd5 = 'HResults -f -I /home/godlovefe/token/sourceData/原文11.txt.mlf  \\\n",
    "#        /home/godlovefe/CRHTK/phones/monophones1 /home/godlovefe/token/resultData/11分段.txt.mlf \\\n",
    "#        >/home/godlovefe/token/result分段11.txt'\n",
    "# os.system(cmd5)\n",
    "\n",
    "# cmd6 = 'HResults -f -I /home/godlovefe/token/sourceData/原文11.txt.mlf  \\\n",
    "#        /home/godlovefe/CRHTK/phones/monophones1 /home/godlovefe/token/resultData/11整段.txt.mlf \\\n",
    "#        >/home/godlovefe/token/result整段11.txt'\n",
    "# os.system(cmd6)"
   ]
  },
  {
   "cell_type": "code",
   "execution_count": 7,
   "metadata": {},
   "outputs": [],
   "source": []
  }
 ],
 "metadata": {
  "kernelspec": {
   "display_name": "Python 3",
   "language": "python",
   "name": "python3"
  },
  "language_info": {
   "codemirror_mode": {
    "name": "ipython",
    "version": 3
   },
   "file_extension": ".py",
   "mimetype": "text/x-python",
   "name": "python",
   "nbconvert_exporter": "python",
   "pygments_lexer": "ipython3",
   "version": "3.5.2"
  }
 },
 "nbformat": 4,
 "nbformat_minor": 2
}
